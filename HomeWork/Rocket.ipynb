{
 "metadata": {
  "name": "",
  "signature": "sha256:7a3b7d6a75aaaeb660748e027635cd3bfea2571235b33d1f4a865ddfd424860c"
 },
 "nbformat": 3,
 "nbformat_minor": 0,
 "worksheets": [
  {
   "cells": [
    {
     "cell_type": "code",
     "collapsed": false,
     "input": [
      "import numpy\n",
      "ms = 50.0                         \n",
      "rho = 1.091                       \n",
      "r = 0.5                           \n",
      "a = numpy.pi * r ** 2             \n",
      "ve = 325.0                       \n",
      "cd = 0.15  \n",
      "mpo = 100.0\n",
      "mpd = 20.0 \n",
      "time = 5 \n",
      "dt = 0.1\n",
      "g =9.8\n",
      "v = numpy.zeros(time/dt)#\u0421\u043a\u043e\u0440\u043e\u0441\u0442\u044c \u0440\u0430\u043a\u0435\u0442\u044b\n",
      "h = numpy.zeros(time/dt)\n",
      "\n",
      "##### up to 5 sec.\n",
      "for i in range(len(v)-1):\n",
      "    mp = mpo - mpd * dt * i\n",
      "    v[i+1] = dt *(-1 * g +(mpd * ve - 0.5 * rho * a * cd * v[i]*abs(v[i]))/(ms + mp)) + v[i]\n",
      "    h[i+1] = h[i] + (v[i+1] * dt)\n",
      "\n",
      "print('Max velocity ', v[i])\n",
      "print('Height ', h[i])\n",
      "\n",
      "\n",
      "# \u041a\u043e\u0433\u0434\u0430 \u0437\u0430\u043a\u043e\u043d\u0447\u0438\u0442\u0441\u044f \u0442\u043e\u043f\u043b\u0438\u0432\u043e\n",
      "s = list() #\u041c\u0430\u0441\u0441\u0438\u0432 \u0441\u043a\u043e\u0440\u043e\u0441\u0442\u0435\u0439, \u043a\u043e\u0433\u0434\u0430 \u0442\u043e\u043f\u043b\u0438\u0432\u043e \u0437\u0430\u043a\u043e\u043d\u0447\u0438\u0442\u0442\u0441\u044f\n",
      "s.append(v[i])#\u0414\u043e\u0431\u0430\u0432\u043b\u0435\u043d\u0438\u0435 \u0441\u043a\u043e\u0440\u043e\u0441\u0442\u0435\u0439\n",
      "hh = h[i]  #\u041a\u0430\u043a\u0430\u044f \u0431\u0443\u0434\u0435\u0442 \u0432\u044b\u0441\u043e\u0442\u0430, \u043a\u043e\u0433\u0434\u0430 \u0442\u043e\u043f\u043b\u0438\u0432\u043e \u0437\u0430\u043a\u043e\u043d\u0447\u0438\u0442\u0441\u044f\n",
      "i = 1\n",
      "mp, mpd = 0, 0\n",
      "\n",
      "while s[i-1] > -0.000000001 :\n",
      "    s.append(dt *(-1 * g -(0.5*rho * a * cd * s[i-1]*abs(s[i-1]))/ ms) + s[i-1])\n",
      "    time = time + dt\n",
      "    hh = hh + s[i] * dt\n",
      "    i += 1\n",
      "\n",
      "print(\"time = \", time)\n",
      "print('Max height', hh)\n",
      "\n",
      "#\u0421\u0432\u043e\u0431\u043e\u0434\u043d\u043e\u0435 \u043f\u0430\u0434\u0435\u043d\u0438\u0435\n",
      "vel0 = 0 #\u0421\u043a\u043e\u0440\u043e\u0441\u0442\u044c \u0441\u0432\u043e\u0431\u043e\u0434\u043d\u043e\u0433\u043e \u043f\u0430\u0434\u0435\u043d\u0438\u044f\n",
      "\n",
      "while hh > -0.00000001:\n",
      "    vel1 = dt *(-1 * g -(0.5*rho * a * cd * vel0*abs(vel0)/ ms)) + vel0\n",
      "    time = time + dt\n",
      "    hh = hh + vel0 * dt\n",
      "    vel0 = vel1\n",
      "\n",
      "print('time of impact ', time)\n",
      "print('velocity of Impact', vel1)"
     ],
     "language": "python",
     "metadata": {},
     "outputs": [
      {
       "output_type": "stream",
       "stream": "stdout",
       "text": [
        "('Max velocity ', 221.77663350142794)\n",
        "('Height ', 500.92255539604548)\n",
        "('time = ', 15.599999999999962)\n",
        "('Max height', 1259.2496361653693)\n",
        "('time of impact ', 36.200000000000244)\n",
        "('velocity of Impact', -85.68316421644639)\n"
       ]
      }
     ],
     "prompt_number": 2
    },
    {
     "cell_type": "code",
     "collapsed": false,
     "input": [],
     "language": "python",
     "metadata": {},
     "outputs": []
    }
   ],
   "metadata": {}
  }
 ]
}