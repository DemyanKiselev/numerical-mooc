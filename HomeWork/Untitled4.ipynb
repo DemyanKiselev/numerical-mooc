{
 "metadata": {
  "name": "",
  "signature": "sha256:ad0cde840a7831c521ede731a010a27b1f886b0512f23acc4421a4f7fb6c4a8d"
 },
 "nbformat": 3,
 "nbformat_minor": 0,
 "worksheets": [
  {
   "cells": [
    {
     "cell_type": "code",
     "collapsed": false,
     "input": [
      "import numpy as numpy\n",
      "import matplotlib.pyplot as plt\n",
      "\n",
      "def linearconv(nx):\n",
      "    dx = 2./(nx-1)\n",
      "    nt = 20    #nt is the number of timesteps we want to calculate\n",
      "    c = 1\n",
      "    sigma = .5\n",
      "    \n",
      "    dt = sigma*dx\n",
      "\n",
      "    u = numpy.ones(nx) \n",
      "    u[.5/dx : 1/dx+1]=2\n",
      "\n",
      "    un = numpy.ones(nx)\n",
      "\n",
      "    for n in range(nt):  #iterate through time\n",
      "        un = u.copy() ##copy the existing values of u into un\n",
      "        for i in range(1,nx):\n",
      "            u[i] = un[i]-c*dt/dx*(un[i]-un[i-1])\n",
      "        \n",
      "    plt.plot(numpy.linspace(0,2,nx),u)\n",
      "    plt.show()\n",
      "\n",
      "linearconv(41)\n",
      "linearconv(61)\n",
      "linearconv(81)\n",
      "linearconv(101)\n",
      "linearconv(121)\n"
     ],
     "language": "python",
     "metadata": {},
     "outputs": []
    }
   ],
   "metadata": {}
  }
 ]
}