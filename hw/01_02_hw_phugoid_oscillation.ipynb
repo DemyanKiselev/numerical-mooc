{
 "metadata": {
  "name": ""
 },
 "nbformat": 3,
 "nbformat_minor": 0,
 "worksheets": [
  {
   "cells": [
    {
     "cell_type": "markdown",
     "metadata": {},
     "source": [
      "\u041f\u043e\u043b\u0443\u0447\u0438\u043b\u0438 \u0443\u0440\u0430\u0432\u043d\u0435\u043d\u0438\u0435 \u0434\u043b\u044f \u0444\u0443\u0433\u043e\u0438\u0434\u043d\u043e\u0439 \u0442\u0440\u0430\u0435\u0442\u043a\u043e\u0440\u0438\u0438:\n",
      "\n",
      "$$\\begin{equation}\n",
      "z(t)'' + \\frac{g \\,z(t)}{z_t}=g\n",
      "\\end{equation}$$\n",
      "\n",
      "\u041f\u0435\u0440\u0435\u043f\u0438\u0441\u0430\u043b\u0438 \u0435\u0433\u043e \u0432 \u0432\u0438\u0434\u0435 \u0441\u0438\u0441\u0442\u0435\u043c\u044b \u043b\u0438\u043d\u0435\u0439\u043d\u044b\u0445 \u0434\u0438\u0444\u0444. \u0443\u0440\u0430\u0432\u043d\u0435\u043d\u0438\u0439:\n",
      "\n",
      "$$\\begin{eqnarray}\n",
      "z'(t) &=& v(t)\\\\\n",
      "v'(t) &=& g\\left(1-\\frac{z(t)}{z_t}\\right)\n",
      "\\end{eqnarray}$$\n",
      "\n",
      "\u0412\u0432\u0435\u043b\u0438 \u043d\u043e\u0432\u043e\u0435 \u043e\u0431\u043e\u0437\u043d\u0430\u0447\u0435\u043d\u0438\u0435 \u0434\u043b\u044f \u0432\u0435\u043a\u0442\u043e\u0440\u0430 \u043d\u0435\u0438\u0437\u0432\u0435\u0441\u0442\u043d\u044b\u0445:\n",
      "\n",
      "$$\\begin{equation}\n",
      "\\vec{u}  = \\begin{pmatrix} z \\\\ v \\end{pmatrix}\n",
      "\\end{equation}$$\n",
      "\n",
      "\u0418 \u043f\u0435\u0440\u0435\u043f\u0438\u0441\u0430\u043b\u0438 \u0441\u0438\u0441\u0435\u0442\u043c\u0443 \u0443\u0440\u0430\u043d\u0435\u043d\u0438\u0439 \u0432 \u0432\u0435\u043a\u0442\u0440\u043d\u043e\u0439 \u0444\u043e\u0440\u043c\u0435:\n",
      "\n",
      "\\begin{equation}\n",
      "\\vec{u}'(t)  = \\begin{pmatrix} v \\\\ g-g\\frac{z(t)}{z_t} \\end{pmatrix}\n",
      "\\end{equation}"
     ]
    },
    {
     "cell_type": "heading",
     "level": 2,
     "metadata": {},
     "source": [
      "\u041c\u0435\u0442\u043e\u0434 \u042d\u0439\u043b\u0435\u0440\u0430"
     ]
    },
    {
     "cell_type": "markdown",
     "metadata": {},
     "source": [
      "\u041e\u0431\u043e\u0437\u043d\u0430\u0447\u0438\u043c  $u_n$ \u0430\u043f\u043f\u0440\u043e\u043a\u0441\u0438\u043c\u0430\u0446\u0438\u044e \u0440\u0435\u0448\u0435\u043d\u0438\u044f \u043d\u0430 \u0432\u0440\u0435\u043c\u0435\u043d\u043d\u043e\u043c \u0448\u0430\u0433\u0435 $t_n$. \u0414\u043b\u044f \u043f\u043e\u043b\u0443\u0447\u0435\u043d\u0438\u044f \u0447\u0438\u0441\u043b\u0435\u043d\u043d\u043e\u0433\u043e \u0440\u0435\u0448\u0435\u043d\u0438\u044f \u0441\u0438\u0441\u0442\u0435\u043c\u044b \u0443\u0440\u0430\u0432\u043d\u0435\u043d\u0439 \u043d\u0443\u0436\u043d\u043e \u043f\u0440\u043e\u0438\u0437\u0432\u0435\u0441\u0442\u0438 \u043f\u043e\u0441\u043b\u0435\u0434\u043e\u0432\u0430\u0442\u0435\u043b\u044c\u043d\u043e\u0441\u0442\u044c \u0432\u044b\u0447\u0438\u0441\u043b\u0435\u043d\u0438\u0439 \u043f\u043e \u0444\u043e\u0440\u043c\u0443\u043b\u0435:\n",
      "\n",
      "$$u_{n+1} = u_n + \\Delta t \\,f(u_n).$$\n",
      "\n",
      "\u0412 \u044d\u0442\u043e\u043c \u0438 \u0441\u043e\u0441\u0442\u043e\u0438\u0442 **\u041c\u0435\u0442\u043e\u0434 \u042d\u0439\u043b\u0435\u0440\u0430**.\n",
      "\n",
      "\u0412 \u0441\u043b\u0443\u0447\u0430\u0435 \u0443\u0440\u0430\u0432\u043d\u0435\u043d\u0438\u0439 \u0444\u0443\u0433\u043e\u0438\u0434\u043d\u044b\u0445 \u043a\u043e\u043b\u0435\u0431\u0430\u043d\u0438\u0439 \u043c\u0435\u0442\u043e\u0434 \u042d\u0439\u043b\u0435\u0440\u0430 \u0434\u0430\u0435\u0442 \u0441\u043b\u0435\u0434\u0443\u044e\u0449\u0438\u0439 \u0430\u043b\u0433\u043e\u0440\u0438\u0442\u043c:\n",
      "\n",
      "\\begin{align}\n",
      "z_{n+1} & = z_n + \\Delta t \\, v_n \\\\\n",
      "v_{n+1} & = v_n + \\Delta t \\left(g - \\frac{g}{z_t} \\, z_n \\right).\n",
      "\\end{align}"
     ]
    },
    {
     "cell_type": "code",
     "collapsed": false,
     "input": [
      "import numpy\n",
      "import matplotlib.pyplot as plt\n",
      "%matplotlib inline"
     ],
     "language": "python",
     "metadata": {},
     "outputs": [],
     "prompt_number": 16
    },
    {
     "cell_type": "code",
     "collapsed": false,
     "input": [
      "T = 100\n",
      "dt = 0.01\n",
      "N = int(T/dt)+1\n",
      "t = numpy.arange(0,T+dt,dt)"
     ],
     "language": "python",
     "metadata": {},
     "outputs": [],
     "prompt_number": 17
    },
    {
     "cell_type": "heading",
     "level": 2,
     "metadata": {},
     "source": [
      "\u041f\u043e\u0441\u0442\u0430\u043d\u043e\u0432\u043a\u0430 \u043d\u0430\u0447\u0430\u043b\u044c\u043d\u044b\u0445 \u0443\u0441\u043b\u043e\u0432\u0438\u0439"
     ]
    },
    {
     "cell_type": "code",
     "collapsed": false,
     "input": [
      "z0 = 100. #altitude\n",
      "v = 10 #upward velocity - pertrubation\n",
      "zt = 100\n",
      "g = 9.81\n",
      "\n",
      "u = numpy.array([z0,v])\n",
      "\n",
      "z = numpy.zeros(N)\n",
      "z[0] = z0"
     ],
     "language": "python",
     "metadata": {},
     "outputs": [],
     "prompt_number": 23
    },
    {
     "cell_type": "code",
     "collapsed": false,
     "input": [
      "z"
     ],
     "language": "python",
     "metadata": {},
     "outputs": [
      {
       "metadata": {},
       "output_type": "pyout",
       "prompt_number": 24,
       "text": [
        "array([ 100.,    0.,    0., ...,    0.,    0.,    0.])"
       ]
      }
     ],
     "prompt_number": 24
    },
    {
     "cell_type": "code",
     "collapsed": false,
     "input": [
      "for n in range(1,N):\n",
      "    u = u + dt*numpy.array([u[1],g*(1-u[0]/zt)])\n",
      "    z[n] = u[0]"
     ],
     "language": "python",
     "metadata": {},
     "outputs": [],
     "prompt_number": 28
    },
    {
     "cell_type": "code",
     "collapsed": false,
     "input": [
      "z"
     ],
     "language": "python",
     "metadata": {},
     "outputs": [
      {
       "metadata": {},
       "output_type": "pyout",
       "prompt_number": 30,
       "text": [
        "array([ 100.        ,   93.44944133,   93.55782429, ...,   89.36661128,\n",
        "         89.47757243,   89.58863789])"
       ]
      }
     ],
     "prompt_number": 30
    },
    {
     "cell_type": "code",
     "collapsed": false,
     "input": [
      "def euler_method(u,z):\n",
      "    \"\"\"Euler method for system of 2 equastions describing fugoid oscillations\n",
      "    \n",
      "    Parameters\n",
      "    ----------\n",
      "    z : array of float\n",
      "        numerical solution.\n",
      "    u : 2d vector\n",
      "        initial condition.\n",
      "    \n",
      "        \n",
      "    Returns\n",
      "    -------\n",
      "    z : array of float\n",
      "        numerical solution.\n",
      "    \"\"\"\n",
      "    for n in range(1,len(z)):\n",
      "        u = u + dt*numpy.array([u[1],g*(1-u[0]/zt)])\n",
      "        z[n] = u[0]\n",
      "    return z"
     ],
     "language": "python",
     "metadata": {},
     "outputs": [],
     "prompt_number": 32
    },
    {
     "cell_type": "code",
     "collapsed": false,
     "input": [
      "u = numpy.array([z0,v])\n",
      "\n",
      "z = numpy.zeros(N)\n",
      "z[0] = z0\n",
      "z = euler_method(u,z)\n"
     ],
     "language": "python",
     "metadata": {},
     "outputs": [],
     "prompt_number": 33
    },
    {
     "cell_type": "code",
     "collapsed": false,
     "input": [
      "z"
     ],
     "language": "python",
     "metadata": {},
     "outputs": [
      {
       "metadata": {},
       "output_type": "pyout",
       "prompt_number": 34,
       "text": [
        "array([ 100.        ,  100.1       ,  100.2       , ...,   96.60653005,\n",
        "         96.71101708,   96.81553741])"
       ]
      }
     ],
     "prompt_number": 34
    },
    {
     "cell_type": "code",
     "collapsed": false,
     "input": [],
     "language": "python",
     "metadata": {},
     "outputs": []
    }
   ],
   "metadata": {}
  }
 ]
}