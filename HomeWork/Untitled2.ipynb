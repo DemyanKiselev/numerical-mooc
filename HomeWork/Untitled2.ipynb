{
 "metadata": {
  "name": "",
  "signature": "sha256:3f675c63226623d58e3f338f735bfed73b71dce6df22e90cb44412939f6d833d"
 },
 "nbformat": 3,
 "nbformat_minor": 0,
 "worksheets": [
  {
   "cells": [
    {
     "cell_type": "code",
     "collapsed": false,
     "input": [
      "\n",
      "import numpy                       #we're importing numpy \n",
      "import matplotlib.pyplot as plt    #and our 2D plotting library, calling it plt\n",
      "\n",
      "nx = 41\n",
      "dx = 2./(nx-1)\n",
      "nt = 20    #nt is the number of timesteps we want to calculate\n",
      "dt = .025  #dt is the amount of time each timestep covers (delta t)\n",
      "\n",
      "u = numpy.ones(nx)      #as before, we initialize u with every value equal to 1.\n",
      "u[.5/dx : 1/dx+1]=2  #then set u = 2 between 0.5 and 1 as per our I.C.s\n",
      "\n",
      "un = numpy.ones(nx) #initialize our placeholder array un, to hold the time-stepped solution\n",
      "\n",
      "for n in range(nt):  #iterate through time\n",
      "    un = u.copy() ##copy the existing values of u into un\n",
      "    for i in range(1,nx):  ##now we'll iterate through the u array\n",
      "       u[i] = un[i]-un[i]*dt/dx*(un[i]-un[i-1]) \n",
      "\n",
      "        \n",
      "plt.plot(numpy.linspace(0,2,nx),u) ##Plot the results\n",
      "\n",
      "plt.show()\n"
     ],
     "language": "python",
     "metadata": {},
     "outputs": []
    }
   ],
   "metadata": {}
  }
 ]
}