{
 "metadata": {
  "name": "",
  "signature": "sha256:d8d12278f29a722510da5b60b1b3c24f506a37ac8de77e043769f7e8bda59c39"
 },
 "nbformat": 3,
 "nbformat_minor": 0,
 "worksheets": [
  {
   "cells": [
    {
     "cell_type": "code",
     "collapsed": false,
     "input": [
      "def sum (a,b):\n",
      "    return a+b\n",
      "print sum(4,5)\n",
      "    "
     ],
     "language": "python",
     "metadata": {},
     "outputs": [
      {
       "output_type": "stream",
       "stream": "stdout",
       "text": [
        "9\n"
       ]
      }
     ],
     "prompt_number": 2
    },
    {
     "cell_type": "code",
     "collapsed": false,
     "input": [
      "def cena(rub, kop=0):\n",
      "    return \"%i \u0440\u0443\u0431. %i \u043a\u043e\u043f.\" % (rub, kop)\n",
      "print cena(8, 50)\n",
      "print cena(7)\n",
      "print cena(rub=23, kop=70)\n"
     ],
     "language": "python",
     "metadata": {},
     "outputs": [
      {
       "output_type": "stream",
       "stream": "stdout",
       "text": [
        "8 \u0440\u0443\u0431. 50 \u043a\u043e\u043f.\n",
        "7 \u0440\u0443\u0431. 0 \u043a\u043e\u043f.\n",
        "23 \u0440\u0443\u0431. 70 \u043a\u043e\u043f.\n"
       ]
      }
     ],
     "prompt_number": 1
    },
    {
     "cell_type": "code",
     "collapsed": false,
     "input": [
      "a = 10\n",
      "b = 5\n",
      "c = a + b\n",
      "assert c == a + b\n",
      "print c"
     ],
     "language": "python",
     "metadata": {},
     "outputs": [
      {
       "output_type": "stream",
       "stream": "stdout",
       "text": [
        "15\n"
       ]
      }
     ],
     "prompt_number": 3
    },
    {
     "cell_type": "code",
     "collapsed": false,
     "input": [
      "print 10, 012, 0xA, 10L"
     ],
     "language": "python",
     "metadata": {},
     "outputs": [
      {
       "output_type": "stream",
       "stream": "stdout",
       "text": [
        "10 10 10 10\n"
       ]
      }
     ],
     "prompt_number": 4
    },
    {
     "cell_type": "code",
     "collapsed": false,
     "input": [
      "pi = 3.1415926535897931"
     ],
     "language": "python",
     "metadata": {},
     "outputs": [],
     "prompt_number": 5
    },
    {
     "cell_type": "code",
     "collapsed": false,
     "input": [
      "pi"
     ],
     "language": "python",
     "metadata": {},
     "outputs": [
      {
       "metadata": {},
       "output_type": "pyout",
       "prompt_number": 6,
       "text": [
        "3.141592653589793"
       ]
      }
     ],
     "prompt_number": 6
    },
    {
     "cell_type": "code",
     "collapsed": false,
     "input": [
      "import numpy\n",
      "x=numpy.linspace(6,23,43)"
     ],
     "language": "python",
     "metadata": {},
     "outputs": [],
     "prompt_number": 2
    },
    {
     "cell_type": "code",
     "collapsed": false,
     "input": [
      "x"
     ],
     "language": "python",
     "metadata": {},
     "outputs": [
      {
       "metadata": {},
       "output_type": "pyout",
       "prompt_number": 3,
       "text": [
        "array([  6.        ,   6.4047619 ,   6.80952381,   7.21428571,\n",
        "         7.61904762,   8.02380952,   8.42857143,   8.83333333,\n",
        "         9.23809524,   9.64285714,  10.04761905,  10.45238095,\n",
        "        10.85714286,  11.26190476,  11.66666667,  12.07142857,\n",
        "        12.47619048,  12.88095238,  13.28571429,  13.69047619,\n",
        "        14.0952381 ,  14.5       ,  14.9047619 ,  15.30952381,\n",
        "        15.71428571,  16.11904762,  16.52380952,  16.92857143,\n",
        "        17.33333333,  17.73809524,  18.14285714,  18.54761905,\n",
        "        18.95238095,  19.35714286,  19.76190476,  20.16666667,\n",
        "        20.57142857,  20.97619048,  21.38095238,  21.78571429,\n",
        "        22.19047619,  22.5952381 ,  23.        ])"
       ]
      }
     ],
     "prompt_number": 3
    },
    {
     "cell_type": "code",
     "collapsed": false,
     "input": [
      "x = 2.2\n",
      "import sympy\n",
      "a =((sympy.cos(x))*(sympy.cos(x)))*((sympy.sin(x))*(sympy.sin(x))*(sympy.sin(x)))/(4*x*x*x*x*x)/(sympy.exp(x))"
     ],
     "language": "python",
     "metadata": {},
     "outputs": [],
     "prompt_number": 9
    },
    {
     "cell_type": "code",
     "collapsed": false,
     "input": [
      "a\n"
     ],
     "language": "python",
     "metadata": {},
     "outputs": [
      {
       "metadata": {},
       "output_type": "pyout",
       "prompt_number": 10,
       "text": [
        "9.83801782869494e-5"
       ]
      }
     ],
     "prompt_number": 10
    },
    {
     "cell_type": "code",
     "collapsed": false,
     "input": [],
     "language": "python",
     "metadata": {},
     "outputs": []
    }
   ],
   "metadata": {}
  }
 ]
}