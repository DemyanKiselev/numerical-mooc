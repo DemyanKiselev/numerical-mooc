{
 "metadata": {
  "name": "",
  "signature": "sha256:a28e666b726662751ecd657a507938b58a88f463522de9cf0b7285518ac80319"
 },
 "nbformat": 3,
 "nbformat_minor": 0,
 "worksheets": [
  {
   "cells": [
    {
     "cell_type": "code",
     "collapsed": false,
     "input": [
      "import numpy\n",
      "import sympy\n",
      "import matplotlib.pyplot as plt\n",
      "\n",
      "from sympy import init_printing\n",
      "from sympy.utilities.lambdify import lambdify\n",
      "init_printing(use_latex=True)\n",
      "\n",
      "x, nu, t = sympy.symbols('x nu t')\n",
      "phi = sympy.exp(-(x-4*t)**2/(4*nu*(t+1))) + sympy.exp(-(x-4*t-2*numpy.pi)**2/(4*nu*(t+1)))\n",
      "print phi\n",
      "\n",
      "phiprime = phi.diff(x)\n",
      "print phiprime\n",
      "\n",
      "u = -2*nu*(phiprime/phi)+4\n",
      "print u\n",
      "\n",
      "ufunc = lambdify((t, x, nu), u)\n",
      "print ufunc(1,4,3)\n",
      "\n",
      "\n",
      "###variable declarations\n",
      "nx = 101\n",
      "nt = 100\n",
      "dx = 2*numpy.pi/(nx-1)\n",
      "nu = .07\n",
      "dt = dx*nu\n",
      "\n",
      "x = numpy.linspace(0, 2*numpy.pi, nx)\n",
      "#u = numpy.empty(nx)\n",
      "un = numpy.empty(nx)\n",
      "t = 0\n",
      "\n",
      "u = numpy.asarray([ufunc(t, x0, nu) for x0 in x])\n",
      "\n",
      "plt.figure(figsize=(11,7), dpi=100)\n",
      "plt.plot(x,u, marker='o', lw=2)\n",
      "plt.xlim([0,2*numpy.pi])\n",
      "plt.ylim([0,10]);\n",
      "\n",
      "for n in range(nt):\n",
      "    un = u.copy()\n",
      "    for i in range(nx-1):\n",
      "        u[i] = un[i] - un[i] * dt/dx *(un[i] - un[i-1]) + nu*dt/dx**2*\\\n",
      "                (un[i+1]-2*un[i]+un[i-1])\n",
      "    u[-1] = un[-1] - un[-1] * dt/dx * (un[-1] - un[-2]) + nu*dt/dx**2*\\\n",
      "                (un[0]-2*un[-1]+un[-2])\n",
      "        \n",
      "u_analytical = numpy.asarray([ufunc(nt*dt, xi, nu) for xi in x])\n",
      "\n",
      "plt.figure(figsize=(11,7), dpi=100)\n",
      "plt.plot(x,u, marker='o', lw=2, label='Computational')\n",
      "plt.plot(x, u_analytical, label='Analytical')\n",
      "plt.xlim([0,2*numpy.pi])\n",
      "plt.ylim([0,10])\n",
      "plt.legend()\n",
      "plt.show()\n"
     ],
     "language": "python",
     "metadata": {},
     "outputs": [
      {
       "output_type": "stream",
       "stream": "stdout",
       "text": [
        "exp(-(-4*t + x - 6.28318530717959)**2/(4*nu*(t + 1))) + exp(-(-4*t + x)**2/(4*nu*(t + 1)))\n",
        "-(-8*t + 2*x)*exp(-(-4*t + x)**2/(4*nu*(t + 1)))/(4*nu*(t + 1)) - (-8*t + 2*x - 12.5663706143592)*exp(-(-4*t + x - 6.28318530717959)**2/(4*nu*(t + 1)))/(4*nu*(t + 1))\n",
        "-2*nu*(-(-8*t + 2*x)*exp(-(-4*t + x)**2/(4*nu*(t + 1)))/(4*nu*(t + 1)) - (-8*t + 2*x - 12.5663706143592)*exp(-(-4*t + x - 6.28318530717959)**2/(4*nu*(t + 1)))/(4*nu*(t + 1)))/(exp(-(-4*t + x - 6.28318530717959)**2/(4*nu*(t + 1))) + exp(-(-4*t + x)**2/(4*nu*(t + 1)))) + 4\n",
        "3.49170664206\n"
       ]
      }
     ],
     "prompt_number": 1
    },
    {
     "cell_type": "code",
     "collapsed": false,
     "input": [],
     "language": "python",
     "metadata": {},
     "outputs": []
    }
   ],
   "metadata": {}
  }
 ]
}