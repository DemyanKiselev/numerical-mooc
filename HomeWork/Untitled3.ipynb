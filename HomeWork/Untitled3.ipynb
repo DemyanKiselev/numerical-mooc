{
 "metadata": {
  "name": "",
  "signature": "sha256:37fa375e09aae84cf0976c28324477e867cfab1692a932cef9aabdb6ebccff9d"
 },
 "nbformat": 3,
 "nbformat_minor": 0,
 "worksheets": [
  {
   "cells": [
    {
     "cell_type": "code",
     "collapsed": false,
     "input": [
      "import numpy                       #numpy is a library for array operations akin to MATLAB\n",
      "import matplotlib.pyplot as plt    #matplotlib is 2D plotting library\n",
      "\n",
      "def linearconv(nx):\n",
      "    dx = 2./(nx-1)\n",
      "    nt = 20    #nt is the number of timesteps we want to calculate\n",
      "    dt = .025  #dt is the amount of time each timestep covers (delta t)\n",
      "    c = 1\n",
      "\n",
      "    u = numpy.ones(nx)      #defining a numpy array which is nx elements long with every value equal to 1.\n",
      "    u[.5/dx : 1/dx+1]=2  #setting u = 2 between 0.5 and 1 as per our I.C.s\n",
      "\n",
      "    un = numpy.ones(nx) #initializing our placeholder array, un, to hold the values we calculate for the n+1 timestep\n",
      "\n",
      "    for n in range(nt):  #iterate through time\n",
      "        un = u.copy() ##copy the existing values of u into un\n",
      "        for i in range(1,nx):\n",
      "            u[i] = un[i]-c*dt/dx*(un[i]-un[i-1])\n",
      "        \n",
      "    plt.plot(numpy.linspace(0,2,nx),u)\n",
      "    plt.show()\n",
      "\n",
      "linearconv(41)\n",
      "linearconv(61)\n",
      "linearconv(71)\n",
      "linearconv(85)\n"
     ],
     "language": "python",
     "metadata": {},
     "outputs": []
    }
   ],
   "metadata": {}
  }
 ]
}