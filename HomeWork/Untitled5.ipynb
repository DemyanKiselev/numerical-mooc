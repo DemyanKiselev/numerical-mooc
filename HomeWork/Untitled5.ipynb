{
 "metadata": {
  "name": "",
  "signature": "sha256:322b6cd91621e5288f1744516e221999f7aedea7a4ba87fb8c0ebed4a27d08f9"
 },
 "nbformat": 3,
 "nbformat_minor": 0,
 "worksheets": [
  {
   "cells": [
    {
     "cell_type": "code",
     "collapsed": false,
     "input": [
      "import numpy                       #loading our favorite library\n",
      "import matplotlib.pyplot as plt    #and the useful plotting library\n",
      "\n",
      "nx = 41\n",
      "dx = 2./(nx-1)\n",
      "nt = 20    #the number of timesteps we want to calculate\n",
      "nu = 0.3   #the value of viscosity\n",
      "sigma = .2 #sigma is a parameter, we'll learn more about it later\n",
      "dt = sigma*dx**2/nu #dt is defined using sigma ... more later!\n",
      "\n",
      "\n",
      "u = numpy.ones(nx)      #a numpy array with nx elements all equal to 1.\n",
      "u[.5/dx : 1/dx+1]=2  #setting u = 2 between 0.5 and 1 as per our I.C.s\n",
      "\n",
      "un = numpy.ones(nx) #our placeholder array, un, to advance the solution in time\n",
      "\n",
      "for n in range(nt):  #iterate through time\n",
      "    un = u.copy() ##copy the existing values of u into un\n",
      "    for i in range(1,nx-1):\n",
      "        u[i] = un[i] + nu*dt/dx**2*(un[i+1]-2*un[i]+un[i-1])\n",
      "        \n",
      "plt.plot(numpy.linspace(0,2,nx), u)\n",
      "plt.show()\n"
     ],
     "language": "python",
     "metadata": {},
     "outputs": []
    }
   ],
   "metadata": {}
  }
 ]
}